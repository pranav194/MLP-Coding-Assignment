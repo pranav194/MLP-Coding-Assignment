{
 "cells": [
  {
   "cell_type": "markdown",
   "metadata": {},
   "source": [
    "# CSE 464 Machine Learning Coding Assignment\n",
    "\n",
    "- Under the mentorship of **Dr. Pratik Chattopadhya**\n",
    "  > In this Assignment, I designed a 3-layer Multilayer Perceptron (Input, Hidden and Output) classified and trained it on **_Wine Quality Dataset_** taken from **_UCI ML Repository_**.\n",
    "- by **Pranav Gupta**, **_17045067_**"
   ]
  },
  {
   "cell_type": "markdown",
   "metadata": {},
   "source": [
    "### Importing Libraries\n",
    "\n",
    "> In this assignment I used important ML libraries such as **numpy**,**pandas**, and used framework **sklearn**."
   ]
  },
  {
   "cell_type": "code",
   "execution_count": 2,
   "metadata": {},
   "outputs": [],
   "source": [
    "#importing libraries\n",
    "import numpy as np\n",
    "import pandas as pd\n",
    "import matplotlib.pyplot as plt\n",
    "from sklearn.neural_network import MLPClassifier\n",
    "from sklearn.model_selection import train_test_split\n",
    "from sklearn.preprocessing import LabelEncoder\n",
    "from sklearn.preprocessing import StandardScaler\n",
    "from sklearn.metrics import accuracy_score\n",
    "from sklearn.model_selection import cross_val_score"
   ]
  },
  {
   "cell_type": "markdown",
   "metadata": {},
   "source": [
    "### Loading Dataset\n",
    "\n",
    "> The dataset is loaded from UCI Repository and the name of the dataset is **_winequality dataset_**.\n",
    "> We can see from the the information of the dataset, that It contains **12 columns and 1599 rows**. The number of features are 11 and the ylabel is a quality index from 3-8.\n",
    "> Ref to the dataset - <https://archive.ics.uci.edu/ml/datasets/wine+quality>"
   ]
  },
  {
   "cell_type": "code",
   "execution_count": 3,
   "metadata": {},
   "outputs": [
    {
     "name": "stdout",
     "output_type": "stream",
     "text": [
      "<class 'pandas.core.frame.DataFrame'>\n",
      "RangeIndex: 1599 entries, 0 to 1598\n",
      "Data columns (total 12 columns):\n",
      "fixed acidity           1599 non-null float64\n",
      "volatile acidity        1599 non-null float64\n",
      "citric acid             1599 non-null float64\n",
      "residual sugar          1599 non-null float64\n",
      "chlorides               1599 non-null float64\n",
      "free sulfur dioxide     1599 non-null float64\n",
      "total sulfur dioxide    1599 non-null float64\n",
      "density                 1599 non-null float64\n",
      "pH                      1599 non-null float64\n",
      "sulphates               1599 non-null float64\n",
      "alcohol                 1599 non-null float64\n",
      "quality                 1599 non-null int64\n",
      "dtypes: float64(11), int64(1)\n",
      "memory usage: 150.0 KB\n",
      "None\n"
     ]
    },
    {
     "data": {
      "text/html": [
       "<div>\n",
       "<style scoped>\n",
       "    .dataframe tbody tr th:only-of-type {\n",
       "        vertical-align: middle;\n",
       "    }\n",
       "\n",
       "    .dataframe tbody tr th {\n",
       "        vertical-align: top;\n",
       "    }\n",
       "\n",
       "    .dataframe thead th {\n",
       "        text-align: right;\n",
       "    }\n",
       "</style>\n",
       "<table border=\"1\" class=\"dataframe\">\n",
       "  <thead>\n",
       "    <tr style=\"text-align: right;\">\n",
       "      <th></th>\n",
       "      <th>fixed acidity</th>\n",
       "      <th>volatile acidity</th>\n",
       "      <th>citric acid</th>\n",
       "      <th>residual sugar</th>\n",
       "      <th>chlorides</th>\n",
       "      <th>free sulfur dioxide</th>\n",
       "      <th>total sulfur dioxide</th>\n",
       "      <th>density</th>\n",
       "      <th>pH</th>\n",
       "      <th>sulphates</th>\n",
       "      <th>alcohol</th>\n",
       "      <th>quality</th>\n",
       "    </tr>\n",
       "  </thead>\n",
       "  <tbody>\n",
       "    <tr>\n",
       "      <th>0</th>\n",
       "      <td>7.4</td>\n",
       "      <td>0.70</td>\n",
       "      <td>0.0</td>\n",
       "      <td>1.9</td>\n",
       "      <td>0.076</td>\n",
       "      <td>11.0</td>\n",
       "      <td>34.0</td>\n",
       "      <td>0.9978</td>\n",
       "      <td>3.51</td>\n",
       "      <td>0.56</td>\n",
       "      <td>9.4</td>\n",
       "      <td>5</td>\n",
       "    </tr>\n",
       "    <tr>\n",
       "      <th>1</th>\n",
       "      <td>7.8</td>\n",
       "      <td>0.88</td>\n",
       "      <td>0.0</td>\n",
       "      <td>2.6</td>\n",
       "      <td>0.098</td>\n",
       "      <td>25.0</td>\n",
       "      <td>67.0</td>\n",
       "      <td>0.9968</td>\n",
       "      <td>3.20</td>\n",
       "      <td>0.68</td>\n",
       "      <td>9.8</td>\n",
       "      <td>5</td>\n",
       "    </tr>\n",
       "  </tbody>\n",
       "</table>\n",
       "</div>"
      ],
      "text/plain": [
       "   fixed acidity  volatile acidity  citric acid  residual sugar  chlorides  \\\n",
       "0            7.4              0.70          0.0             1.9      0.076   \n",
       "1            7.8              0.88          0.0             2.6      0.098   \n",
       "\n",
       "   free sulfur dioxide  total sulfur dioxide  density    pH  sulphates  \\\n",
       "0                 11.0                  34.0   0.9978  3.51       0.56   \n",
       "1                 25.0                  67.0   0.9968  3.20       0.68   \n",
       "\n",
       "   alcohol  quality  \n",
       "0      9.4        5  \n",
       "1      9.8        5  "
      ]
     },
     "execution_count": 3,
     "metadata": {},
     "output_type": "execute_result"
    }
   ],
   "source": [
    "#importing dataset and preprocessing it\n",
    "df=pd.read_csv('./data/winequality-red.csv',sep=\";\")\n",
    "print(df.info())\n",
    "df.head(2)"
   ]
  },
  {
   "cell_type": "code",
   "execution_count": 3,
   "metadata": {},
   "outputs": [],
   "source": [
    "all_features = list(df)\n",
    "all_features\n",
    "target = ['quality']\n",
    "features = list(set(all_features)-set(target))"
   ]
  },
  {
   "cell_type": "code",
   "execution_count": 4,
   "metadata": {},
   "outputs": [
    {
     "name": "stdout",
     "output_type": "stream",
     "text": [
      "shape of X Ndarray :(1599, 11)\n",
      "Shape of Y array: (1599,)\n",
      "\n",
      "Description of target label :-\n",
      "\n",
      "count    1599.000000\n",
      "mean        5.636023\n",
      "std         0.807569\n",
      "min         3.000000\n",
      "25%         5.000000\n",
      "50%         6.000000\n",
      "75%         6.000000\n",
      "max         8.000000\n",
      "Name: quality, dtype: float64\n"
     ]
    }
   ],
   "source": [
    "X=df.drop(target,axis=1)\n",
    "y = df.loc[:,'quality']\n",
    "\n",
    "print (\"shape of X Ndarray :\"+str(X.shape)+\"\\n\"+\"Shape of Y array: \"+str(y.shape))\n",
    "\n",
    "print(\"\\nDescription of target label :-\\n\")\n",
    "print(y.describe())\n",
    "ss=StandardScaler()\n",
    "X=ss.fit_transform(X)\n",
    "\n",
    "X_train,X_test,y_train,y_test=train_test_split(X,y,test_size=0.3)\n"
   ]
  },
  {
   "cell_type": "markdown",
   "metadata": {},
   "source": [
    "### Designing MLP Perceptron\n",
    "\n",
    "> As given in the assignment, I have initialised pre determined random set of hyperparameters, which will be used to create model. For each tuple, I have trained the model with random initialization and have observed the cross validation accuracy.\n",
    "> **I have used 3-fold Cross-validation algorithm.**"
   ]
  },
  {
   "cell_type": "code",
   "execution_count": 5,
   "metadata": {},
   "outputs": [
    {
     "name": "stdout",
     "output_type": "stream",
     "text": [
      "Wall time: 1min 12s\n"
     ]
    }
   ],
   "source": [
    "#MLP=MultiLayerPerceptron\n",
    "#initializing parameters alpha(a) and hidden layer neurons(n)\n",
    "param_tuples=[(0.0001,1),(0.0001,2),(0.001,5),(0.0001,3),(0.0001,4),(0.001,5),(0.01,6),(0.003,5),(0.1,7),(0.001,12)]\n",
    "\n",
    "def getAccuraciesList(param_tuples):\n",
    "    accuracies_list=[]\n",
    "    for parameter in param_tuples:\n",
    "        a=parameter[0]\n",
    "        n=parameter[1]\n",
    "        accuracy_list=[]\n",
    "        for i in range(20):\n",
    "            clf=MLPClassifier(hidden_layer_sizes=(n,),solver='lbfgs',learning_rate_init=a,random_state=i,tol=1e-5,verbose=False)\n",
    "            accuracies=cross_val_score(estimator=clf,X=X_train,y=y_train,cv=3)\n",
    "            accuracy_list.append(accuracies.mean())\n",
    "        accuracies_list.append(accuracy_list)\n",
    "    return accuracies_list\n",
    "%time accuracies_list = getAccuraciesList(param_tuples)"
   ]
  },
  {
   "cell_type": "markdown",
   "metadata": {},
   "source": [
    "### Plotting Box Plot\n",
    "\n",
    "> We have created 10 MLP Models with 20 random intialization for each model. This list is further used to plot box plot. And using this box plot we can visualize the accuracy of each model and can select the best model out of these parameters.\n",
    "> From the box plot we can see that our **First model is giving great result** as the 1st box plot is consistent and mean is also higher than the rest."
   ]
  },
  {
   "cell_type": "code",
   "execution_count": 6,
   "metadata": {},
   "outputs": [
    {
     "name": "stdout",
     "output_type": "stream",
     "text": [
      "the shape of the accuracy list obtained :(10, 20)\n"
     ]
    },
    {
     "data": {
      "image/png": "[encoded data removed]",
      "text/plain": [
       "<Figure size 432x288 with 1 Axes>"
      ]
     },
     "metadata": {
      "needs_background": "light"
     },
     "output_type": "display_data"
    }
   ],
   "source": [
    "accuracies_list1 = np.array(accuracies_list)\n",
    "print(\"the shape of the accuracy list obtained :\"+ str(accuracies_list1.shape))\n",
    "#Creating Box Plots\n",
    "plt.boxplot(accuracies_list)\n",
    "plt.xlabel(\"Model number\")\n",
    "plt.ylabel(\"Accuracy\")\n",
    "plt.title(\"Box Plot of the accuracy list \")\n",
    "plt.show()"
   ]
  },
  {
   "cell_type": "code",
   "execution_count": 7,
   "metadata": {},
   "outputs": [
    {
     "name": "stderr",
     "output_type": "stream",
     "text": [
      "C:\\Users\\pranav\\Anaconda3\\lib\\site-packages\\sklearn\\model_selection\\_split.py:626: Warning: The least populated class in y has only 6 members, which is too few. The minimum number of members in any class cannot be less than n_splits=10.\n",
      "  % (min_groups, self.n_splits)), Warning)\n"
     ]
    },
    {
     "name": "stdout",
     "output_type": "stream",
     "text": [
      "Best accuray : 0.5980398099028746\n"
     ]
    }
   ],
   "source": [
    "#choosing best (consistent and accurate i.e.1st tuple) set of parameters from box plot\n",
    "best_param = param_tuples[0]\n",
    "classifier=MLPClassifier(hidden_layer_sizes=(best_param[1],),solver='lbfgs',learning_rate_init=best_param[0],tol=1e-5)\n",
    "classifier.fit(X_train,y_train)\n",
    "accuracies=cross_val_score(estimator=classifier,X=X_train,y=y_train,cv=10)\n",
    "print( \"Best accuray : \"+str(accuracies.mean()))"
   ]
  },
  {
   "cell_type": "markdown",
   "metadata": {},
   "source": [
    "### Drawing Cumulative Match Characteristics Curve\n",
    "\n",
    "> CMC curve is a precision curve that provides detection or recognition precision for each rank. The horizontal line is rank of recognition, and the vertical line is precision percent. For example the first rank recognitions rate is indicated in first element, the second rank is indicated in second element and so on."
   ]
  },
  {
   "cell_type": "code",
   "execution_count": 8,
   "metadata": {},
   "outputs": [],
   "source": [
    "def sort(arr):\n",
    "    dict1 = {}\n",
    "    for i in range(len(arr)):\n",
    "        dict1[i+3] = arr[i]\n",
    "    sort_orders = sorted(dict1.items(),key=lambda x: x[1], reverse=True)\n",
    "    ar = []\n",
    "    for i in sort_orders:\n",
    "        ar.append(i[0])\n",
    "    return ar\n",
    "\n",
    "# Gives CMC Scores based on the predictions probabilites and labels which can be used to draw CMC Curve\n",
    "def CMCScore (predictions,labels):\n",
    "    print(\"shape of the predictions :\"+str(predictions.shape))\n",
    "    print (\"Shape of the len array :\" +str(len(labels)))\n",
    "    ranks = []\n",
    "    for i in range(len(labels)) :\n",
    "        firstOccurance = np.argmax(predictions[i]== labels[i])        \n",
    "        ranks.append(firstOccurance+1)\n",
    "    labelLen = len(labels)\n",
    "    totallentillnow = 0\n",
    "    cmcScore = []\n",
    "    for i in range(1,predictions.shape[1]+1):\n",
    "        totallentillnow += ranks.count(i)\n",
    "        cmcScore.append(float(totallentillnow)/float(labelLen))\n",
    "    return (cmcScore,range(1,predictions.shape[1]+1))"
   ]
  },
  {
   "cell_type": "code",
   "execution_count": 10,
   "metadata": {},
   "outputs": [],
   "source": [
    "#drawing Cumulative Match Characteristics curve\n",
    "best_param = param_tuples[0]\n",
    "y_pred_proba=classifier.predict_proba(X_test)\n",
    "predictions = np.empty((len(y_pred_proba),6))\n",
    "labels = y_test.tolist()\n",
    "predictions[0] = y_pred_proba[0]\n",
    "for ind,arr in enumerate(y_pred_proba):\n",
    "    predictions[ind] = sort(arr)"
   ]
  },
  {
   "cell_type": "code",
   "execution_count": 12,
   "metadata": {},
   "outputs": [
    {
     "name": "stdout",
     "output_type": "stream",
     "text": [
      "shape of the predictions :(480, 6)\n",
      "Shape of the len array :480\n"
     ]
    },
    {
     "data": {
      "image/png": "[encoded data removed]",
      "text/plain": [
       "<Figure size 432x288 with 1 Axes>"
      ]
     },
     "metadata": {
      "needs_background": "light"
     },
     "output_type": "display_data"
    }
   ],
   "source": [
    "CMC_Rank = CMCScore(predictions, labels)\n",
    "cmc_scores = CMC_Rank[0]\n",
    "rank = CMC_Rank[1]\n",
    "plt.plot(rank,cmc_scores)\n",
    "plt.scatter(rank,cmc_scores)\n",
    "plt.xlabel(\"Rank\")\n",
    "plt.ylabel(\"CMC Scores\")\n",
    "plt.title(\"Cumulative Match Characteristics Curve\")\n",
    "plt.show()"
   ]
  },
  {
   "cell_type": "markdown",
   "metadata": {},
   "source": [
    "## Summary\n",
    "\n",
    "> As we can see with increase in rank the cmc score increases. This was expected from reading the definition of cmc itself. Since the # of labels are 6, we can see that as we reach rank 6, our cmc score reaches 1\n",
    "> But we can see that, **We get great Precision score at rank 2 itself.**"
   ]
  },
  {
   "cell_type": "code",
   "execution_count": null,
   "metadata": {},
   "outputs": [],
   "source": []
  }
 ],
 "metadata": {
  "kernelspec": {
   "display_name": "Python 3",
   "language": "python",
   "name": "python3"
  },
  "language_info": {
   "codemirror_mode": {
    "name": "ipython",
    "version": 3
   },
   "file_extension": ".py",
   "mimetype": "text/x-python",
   "name": "python",
   "nbconvert_exporter": "python",
   "pygments_lexer": "ipython3",
   "version": "3.6.6"
  }
 },
 "nbformat": 4,
 "nbformat_minor": 2
}
